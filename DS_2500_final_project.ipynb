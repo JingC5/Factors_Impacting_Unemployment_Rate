{
 "cells": [
  {
   "cell_type": "code",
   "execution_count": 1,
   "metadata": {
    "colab": {
     "base_uri": "https://localhost:8080/"
    },
    "id": "xe49xhKn64B2",
    "outputId": "f5f60bad-3fb9-47b0-e8fe-2c238a2e2c8a"
   },
   "outputs": [
    {
     "name": "stdout",
     "output_type": "stream",
     "text": [
      "install finished\n"
     ]
    }
   ],
   "source": [
    "# import general libraries\n",
    "import pandas as pd\n",
    "import matplotlib.pyplot as plt\n",
    "import numpy as np\n",
    "from sklearn.linear_model import LinearRegression\n",
    "import datetime\n",
    "import statsmodels.formula.api as sm\n",
    "import seaborn as sns\n",
    "from scipy.stats import pearsonr\n",
    "import csv\n",
    "%matplotlib inline\n",
    "print(\"install finished\")"
   ]
  },
  {
   "cell_type": "code",
   "execution_count": 3,
   "metadata": {
    "colab": {
     "base_uri": "https://localhost:8080/",
     "height": 322
    },
    "id": "BevibRFSBkPo",
    "outputId": "8f2d9938-8a81-48db-c8ab-bb5782079dd1"
   },
   "outputs": [
    {
     "ename": "ModuleNotFoundError",
     "evalue": "No module named 'google'",
     "output_type": "error",
     "traceback": [
      "\u001b[0;31m---------------------------------------------------------------------------\u001b[0m",
      "\u001b[0;31mModuleNotFoundError\u001b[0m                       Traceback (most recent call last)",
      "Cell \u001b[0;32mIn[3], line 2\u001b[0m\n\u001b[1;32m      1\u001b[0m \u001b[38;5;66;03m# upload all the file to make sure the reusibility is good\u001b[39;00m\n\u001b[0;32m----> 2\u001b[0m \u001b[38;5;28;01mfrom\u001b[39;00m \u001b[38;5;21;01mgoogle\u001b[39;00m\u001b[38;5;21;01m.\u001b[39;00m\u001b[38;5;21;01mcolab\u001b[39;00m \u001b[38;5;28;01mimport\u001b[39;00m files\n\u001b[1;32m      3\u001b[0m uploaded \u001b[38;5;241m=\u001b[39m files\u001b[38;5;241m.\u001b[39mupload()\n",
      "\u001b[0;31mModuleNotFoundError\u001b[0m: No module named 'google'"
     ]
    }
   ],
   "source": [
    "# upload all the file to make sure the reusibility is good\n",
    "from google.colab import files\n",
    "uploaded = files.upload()"
   ]
  },
  {
   "cell_type": "markdown",
   "metadata": {
    "id": "Ln2XYCbkMDvH"
   },
   "source": [
    "\n",
    "\n",
    "**BRANDON CODE**"
   ]
  },
  {
   "cell_type": "code",
   "execution_count": 4,
   "metadata": {
    "id": "37d1228c"
   },
   "outputs": [],
   "source": [
    "import matplotlib.dates as mdates"
   ]
  },
  {
   "cell_type": "code",
   "execution_count": 5,
   "metadata": {
    "id": "26b22186"
   },
   "outputs": [],
   "source": [
    "def load_and_prepare_data(file_path, value_column_name, start_year, end_year):\n",
    "    '''\n",
    "    Parameters:\n",
    "    - file_path (str): the file path of the CSV file to load\n",
    "    - value_column_name (str): the name to assign the value column in the reshaped dataset\n",
    "    - start_year (str): the starting year for filtering the dataset\n",
    "    - end_year (int): the ending year filtering the dataset\n",
    "\n",
    "    Returns:\n",
    "    - data_final (pd.DataFrame): the final, cleaned and prepared dataset suitable for analysis\n",
    "\n",
    "    Does: load a dataset from a CSV file, clean and prepare it for analysis\n",
    "    '''\n",
    "    data = pd.read_csv(file_path)\n",
    "    data_cleaned = data.drop(index = range(0, 10)).reset_index(drop = True)\n",
    "    data_cleaned = data_cleaned.iloc[:, :13]\n",
    "    data_cleaned.columns = ['Year', 'Jan', 'Feb', 'Mar', 'Apr', 'May', 'Jun', 'Jul', 'Aug', 'Sep', 'Oct', 'Nov', 'Dec']\n",
    "    data_cleaned = data_cleaned[data_cleaned['Year'].apply(lambda x: x.isnumeric())]\n",
    "    data_cleaned['Year'] = data_cleaned['Year'].astype(int)\n",
    "\n",
    "    for month in data_cleaned.columns[1:]:\n",
    "        data_cleaned[month] = pd.to_numeric(data_cleaned[month], errors='coerce')\n",
    "\n",
    "    data_filtered = data_cleaned[(data_cleaned['Year'] >= start_year) & (data_cleaned['Year'] <= end_year)]\n",
    "    data_long_format = pd.melt(data_filtered, id_vars = ['Year'], var_name = 'Month', value_name = value_column_name)\n",
    "    data_long_format['Date'] = pd.to_datetime(data_long_format['Year'].astype(str) + data_long_format['Month'], format = '%Y%b')\n",
    "    data_final = data_long_format.sort_values(by = 'Date').reset_index(drop = True)\n",
    "\n",
    "    return data_final\n"
   ]
  },
  {
   "cell_type": "code",
   "execution_count": 6,
   "metadata": {
    "id": "45c2ef79"
   },
   "outputs": [],
   "source": [
    "def perform_linear_regression(data, value_column_name):\n",
    "    '''\n",
    "    Parameters:\n",
    "    - data (pd.DataFrame): the time series dataset containing a 'Date' column and a value column\n",
    "    - value_column_name (): the name of the column in the dataset that contains the values to be modeled\n",
    "\n",
    "    Returns:\n",
    "    - model(LinearRegression): the linear regression model\n",
    "    - X (pd.DataFrame): the DataFrame containing the independent variable (dates in ordinal format)\n",
    "    - Y (pd.Dataframe): the Series containing the dependent variable (values from the specified value column).\n",
    "\n",
    "    Does: perform linear regression on a time series dataset, converts dates to ordinal format to serve\n",
    "        as the independent variable (X), fits a linear regression model using the specified value column\n",
    "        as the dependent variable (Y).\n",
    "    '''\n",
    "    data['DateOrdinal'] = data['Date'].apply(lambda x: x.toordinal())\n",
    "    X = data[['DateOrdinal']]\n",
    "    X_train = X.iloc[:-60]\n",
    "    Y = data[value_column_name]# Use the dynamic value column name\n",
    "    Y_train = Y.iloc[:-60]\n",
    "\n",
    "\n",
    "    model = LinearRegression()\n",
    "    model.fit(X_train, Y_train)\n",
    "\n",
    "    return model, X, Y"
   ]
  },
  {
   "cell_type": "code",
   "execution_count": 7,
   "metadata": {
    "id": "35e4a7c2"
   },
   "outputs": [],
   "source": [
    "def first_order_diff(lst):\n",
    "    '''\n",
    "    Parameters:\n",
    "    - lst(list of float/int): a list of numerical values\n",
    "\n",
    "    Returns:\n",
    "    - diff_lst (list of float/int): a list containing the first-order differences of the input list\n",
    "\n",
    "    Does: calculate the first-order difference of a given list\n",
    "    '''\n",
    "    diff_lst = []\n",
    "    for i in range(1, len(lst)):\n",
    "        value = lst[i] - lst[i - 1]\n",
    "        diff_lst.append(value)\n",
    "    return diff_lst"
   ]
  },
  {
   "cell_type": "code",
   "execution_count": null,
   "metadata": {
    "id": "9f6b7293"
   },
   "outputs": [],
   "source": [
    "def plot_data_and_regression_line(data, X, Y, model, title, ylabel):\n",
    "    '''\n",
    "    Plot the given data and a linear regression line\n",
    "    '''\n",
    "    plt.figure(figsize = (10, 6))\n",
    "    plt.scatter(data['Date'], Y, color = 'blue', label = ylabel)\n",
    "\n",
    "    dates_line = pd.date_range(data['Date'].min(), data['Date'].max(), freq = 'M')\n",
    "    dates_line_ordinal = dates_line.map(pd.Timestamp.toordinal).to_frame(name = 'DateOrdinal')\n",
    "    predicted_rates = model.predict(dates_line_ordinal)\n",
    "\n",
    "    plt.plot(dates_line, predicted_rates, color = 'red', label = 'Linear Regression Line')\n",
    "    plt.title(title)\n",
    "    plt.xlabel('Date')\n",
    "    plt.ylabel(ylabel)\n",
    "    plt.legend()\n",
    "    plt.grid(True)\n",
    "    plt.gca().xaxis.set_major_locator(mdates.YearLocator())\n",
    "    plt.gca().xaxis.set_major_formatter(mdates.DateFormatter('%Y'))\n",
    "    plt.gca().xaxis.set_minor_locator(mdates.MonthLocator())\n",
    "    plt.gcf().autofmt_xdate()\n",
    "\n",
    "    plt.show()"
   ]
  },
  {
   "cell_type": "code",
   "execution_count": null,
   "metadata": {
    "colab": {
     "base_uri": "https://localhost:8080/",
     "height": 526
    },
    "id": "Li1nNetbhDQX",
    "outputId": "88e11d71-d89d-487c-882a-0f35183228ee"
   },
   "outputs": [],
   "source": [
    "# Load, prepare, and analyze U.S. unemployment level data from 2004 to 2023 using linear regression, then visualize\n",
    "# the results with a scatter plot and a fitted regression line.\n",
    "start_year = 2004\n",
    "end_year = 2023\n",
    "\n",
    "unemp_level_path = 'unemployment_level.csv'\n",
    "unemp_level_data = load_and_prepare_data(unemp_level_path, 'Unemployment Level', start_year, end_year)\n",
    "unemp_level_model, unemp_level_X, unemp_level_Y = perform_linear_regression(unemp_level_data, 'Unemployment Level')\n",
    "unemp_level_title = f\"U.S. Unemployment Level ({start_year} - {end_year})\"\n",
    "plot_data_and_regression_line(unemp_level_data, unemp_level_X, unemp_level_Y, unemp_level_model, unemp_level_title, 'Unemployment Level')\n"
   ]
  },
  {
   "cell_type": "code",
   "execution_count": null,
   "metadata": {
    "colab": {
     "base_uri": "https://localhost:8080/",
     "height": 526
    },
    "id": "5HPZN_6khDHf",
    "outputId": "28abd842-3efd-4f70-82c8-845fd26aa8de"
   },
   "outputs": [],
   "source": [
    "# Load, prepare, and analyze U.S. unemployment rate data from 2004 to 2023 using linear regression,\n",
    "# then plot the data and the regression model to visualize trends.\n",
    "unemp_rate_path = 'unemployment_rate.csv'\n",
    "unemp_rate_data = load_and_prepare_data(unemp_rate_path, 'Unemployment Rate', start_year, end_year)\n",
    "unemp_rate_model, unemp_rate_X, unemp_rate_Y = perform_linear_regression(unemp_rate_data, 'Unemployment Rate')\n",
    "unemp_rate_title = f\"U.S. Unemployment Rate ({start_year} - {end_year})\"\n",
    "plot_data_and_regression_line(unemp_rate_data, unemp_rate_X, unemp_rate_Y, unemp_rate_model, unemp_rate_title, 'Unemployment Rate')"
   ]
  },
  {
   "cell_type": "code",
   "execution_count": null,
   "metadata": {
    "colab": {
     "base_uri": "https://localhost:8080/",
     "height": 526
    },
    "id": "deMR3OXjhC7-",
    "outputId": "3173438f-51a5-4c79-babf-56755d111c70"
   },
   "outputs": [],
   "source": [
    "# Analyze the Consumer Price Index (CPI) for all urban consumers from 2004 to 2023, using linear regression\n",
    "# to understand trends, and visualize the data with the model's prediction.\n",
    "cpi_all_path = 'CPI_for_all_urban_consumers.csv'\n",
    "cpi_all_data = load_and_prepare_data(cpi_all_path, 'CPI', start_year, end_year)\n",
    "cpi_all_model, cpi_all_X, cpi_all_Y = perform_linear_regression(cpi_all_data, 'CPI')\n",
    "cpi_all_title = f\"CPI for All Urban Consumers ({start_year} - {end_year})\"\n",
    "plot_data_and_regression_line(cpi_all_data, cpi_all_X, cpi_all_Y, cpi_all_model, cpi_all_title, 'CPI')"
   ]
  },
  {
   "cell_type": "code",
   "execution_count": null,
   "metadata": {
    "colab": {
     "base_uri": "https://localhost:8080/",
     "height": 449
    },
    "id": "7OK2lgWIhXbs",
    "outputId": "f91bb10d-3afd-4408-ee58-6dcb42d9f35b"
   },
   "outputs": [],
   "source": [
    "# Calculate the first-order difference of the CPI to analyze changes over time, fit a linear regression model\n",
    "# to this differentiated data, and plot both the differentiated CPI and the regression line to visualize trends in CPI changes.\n",
    "diff_cpi_all_Y = first_order_diff(list(cpi_all_Y))\n",
    "diff_cpi_all_Y = first_order_diff(list(cpi_all_Y))\n",
    "cpi_all_data['DateOrdinal'] = cpi_all_data['Date'].apply(lambda x: x.toordinal())\n",
    "X = cpi_all_data[['DateOrdinal']]\n",
    "diff_model = LinearRegression()\n",
    "diff_model.fit(cpi_all_data[['DateOrdinal']].iloc[1: , :], diff_cpi_all_Y)\n",
    "plt.plot(cpi_all_data['Date'].iloc[1:],diff_cpi_all_Y, color = 'blue', label = \"CPI\")\n",
    "dates_line = pd.date_range(cpi_all_data['Date'].min(), cpi_all_data['Date'].max(), freq = 'M')\n",
    "dates_line_ordinal = dates_line.map(pd.Timestamp.toordinal).to_frame(name = 'DateOrdinal')\n",
    "predicted_rates = diff_model.predict(dates_line_ordinal)\n",
    "\n",
    "plt.plot(dates_line, predicted_rates, color = 'red', label = 'Linear Regression Line')\n",
    "plt.xlabel('Date')\n",
    "plt.ylabel(\"CPI\")\n",
    "plt.legend()\n",
    "plt.grid(True)"
   ]
  },
  {
   "cell_type": "markdown",
   "metadata": {
    "id": "Aj9-MJsJMDiA"
   },
   "source": [
    "**CAMILLE CODE**"
   ]
  },
  {
   "cell_type": "code",
   "execution_count": null,
   "metadata": {
    "id": "nYdJWgM0MaEq"
   },
   "outputs": [],
   "source": [
    "import scipy.spatial.distance as ssd"
   ]
  },
  {
   "cell_type": "code",
   "execution_count": null,
   "metadata": {
    "colab": {
     "base_uri": "https://localhost:8080/",
     "height": 206
    },
    "id": "4acfbe29",
    "outputId": "d3c3b123-2472-4d65-f084-432768945358",
    "scrolled": true
   },
   "outputs": [],
   "source": [
    "#In this cell, we want to clean the Unemployment rate data. We set row 10 as our header.\n",
    "df_unemployment = pd.read_csv(\"unemployment_rate.csv\")\n",
    "df_unemployment.columns = df_unemployment.iloc[10]\n",
    "\n",
    "# Drop the first fifth rows (since the sixth row is now the header)\n",
    "df_unemployment = df_unemployment.drop([0, 1, 2, 3, 4, 5, 6, 7, 8, 9, 10])\n",
    "header_lst = list(df_unemployment.columns.values)[1:]\n",
    "\n",
    "df_unemployment[header_lst] = df_unemployment[header_lst].astype(float)\n",
    "df_unemployment.head()"
   ]
  },
  {
   "cell_type": "code",
   "execution_count": null,
   "metadata": {
    "id": "ffc46ec2"
   },
   "outputs": [],
   "source": [
    "#Convert the data into a 2D list of dictionary\n",
    "\n",
    "# Convert the DataFrame into a list of dictionaries\n",
    "unemployment_data = []\n",
    "for index, row in df_unemployment.iterrows():\n",
    "    rates = [float(rate) for rate in row[1:]]\n",
    "    unemployment_data.append({month: rate for month, rate in zip(range(1, 13), rates)})"
   ]
  },
  {
   "cell_type": "code",
   "execution_count": null,
   "metadata": {
    "colab": {
     "base_uri": "https://localhost:8080/",
     "height": 206
    },
    "id": "ba0c04f1",
    "outputId": "adfbfe3e-925e-4146-b478-f7123b6bd146"
   },
   "outputs": [],
   "source": [
    "#read college education rate\n",
    "\n",
    "df_college = pd.read_csv(\"EducationReport_college.csv\", header = 2)\n",
    "df_college.replace('', np.nan, inplace=True)\n",
    "\n",
    "# Assign the forth row as the header\n",
    "df_college.columns = df_college.iloc[0]\n",
    "\n",
    "df_college = df_college.iloc[:, :7]\n",
    "df_college.head()"
   ]
  },
  {
   "cell_type": "code",
   "execution_count": null,
   "metadata": {
    "colab": {
     "base_uri": "https://localhost:8080/",
     "height": 206
    },
    "id": "dfbd495b",
    "outputId": "f9ebedbf-e4f3-4ea1-df6c-9b657dc543ec",
    "scrolled": true
   },
   "outputs": [],
   "source": [
    "#the high school education rate data do not have national data\n",
    "df_highschool = pd.read_csv(\"EducationReport.csv\")\n",
    "# Fill blank cells with NaN values\n",
    "df_highschool.replace('', np.nan, inplace=True)\n",
    "\n",
    "# Assign the third row as the header\n",
    "df_highschool.columns = df_highschool.iloc[2]\n",
    "\n",
    "df_highschool_new = df_highschool.iloc[:, :7]\n",
    "df_highschool_new.head()"
   ]
  },
  {
   "cell_type": "code",
   "execution_count": null,
   "metadata": {
    "id": "c06e4845"
   },
   "outputs": [],
   "source": [
    "#In this cell, we want to find out which state have the closest data with the national data, which means that\n",
    "#we want to find out which state can represent the national data.\n",
    "\n",
    "#define the national avergae rates\n",
    "national_rates = df_college.iloc[-1, 1:].str.rstrip('%').astype(float) / 100\n",
    "df_college_states = df_college.iloc[3:-3, 1:]\n",
    "\n",
    "#Convert percentage string to float\n",
    "df_college_states = df_college_states.apply(pd.to_numeric, errors = 'coerce') / 100\n",
    "\n",
    "#Replace NaN values with the national average rate\n",
    "df_college_states.fillna(national_rates, inplace = True)\n",
    "\n",
    "#Calculate Manhattan distance between each state and national state\n",
    "manhattan_distances = df_college_states.apply(lambda x: x.sub(national_rates).abs().sum(), axis=1)\n",
    "\n",
    "# Find the state with the minimum Manhattan distance\n",
    "closest_state_index = manhattan_distances.idxmin()\n",
    "closest_state = df_college.iloc[manhattan_distances.idxmin() + 3, 0]\n",
    "closest_state_data = df_college_states.iloc[closest_state_index]\n",
    "manhattan_distance = manhattan_distances[closest_state_index]"
   ]
  },
  {
   "cell_type": "code",
   "execution_count": null,
   "metadata": {
    "colab": {
     "base_uri": "https://localhost:8080/"
    },
    "id": "c1b8408f",
    "outputId": "c324e2e6-0e74-4e14-b070-37036c03704e"
   },
   "outputs": [],
   "source": [
    "#print pout the closest state data\n",
    "print(\"The state that best represents the national high school education average is:\", closest_state)"
   ]
  },
  {
   "cell_type": "code",
   "execution_count": null,
   "metadata": {
    "colab": {
     "base_uri": "https://localhost:8080/"
    },
    "id": "f804bfc9",
    "outputId": "a49984eb-4c05-4556-fd91-0769e7c504fa"
   },
   "outputs": [],
   "source": [
    "# Filter the data for Arizona state\n",
    "national_highschool_data = df_highschool_new[df_highschool_new.iloc[:, 0] == closest_state]\n",
    "education_rates = national_highschool_data.iloc[:, 1:].values.flatten().tolist()\n",
    "headers = df_highschool_new.columns[1:].tolist()\n",
    "\n",
    "# Create a dictionary with headers as keys and education rates as values\n",
    "national_highschool_data_dict = dict(zip(headers, education_rates))\n",
    "print(national_highschool_data_dict)"
   ]
  },
  {
   "cell_type": "code",
   "execution_count": null,
   "metadata": {
    "colab": {
     "base_uri": "https://localhost:8080/",
     "height": 564
    },
    "id": "2f28bc3d",
    "outputId": "24ab175a-74ea-4e65-c9cc-7a2e5dc8f455"
   },
   "outputs": [],
   "source": [
    "# Extract years and education rates from the dictionary\n",
    "years = list(national_highschool_data_dict.keys())\n",
    "\n",
    "# Remove '%' sign and convert to float\n",
    "education_rates = [float(rate[:-1]) for rate in education_rates]\n",
    "\n",
    "# Convert years to integers (assuming they are strings)\n",
    "years = [str(year) for year in years]\n",
    "\n",
    "# Plotting\n",
    "plt.figure(figsize=(10, 6))\n",
    "plt.plot(years, education_rates, marker='o')\n",
    "plt.title(f\"Education Rates Over Years in {closest_state}\")\n",
    "plt.xlabel('Year')\n",
    "plt.ylabel('Education Rate')\n",
    "plt.ylim(0, 100)\n",
    "plt.grid(True)\n",
    "plt.xticks(years)\n",
    "plt.show()"
   ]
  },
  {
   "cell_type": "code",
   "execution_count": null,
   "metadata": {
    "colab": {
     "base_uri": "https://localhost:8080/"
    },
    "id": "86e76d23",
    "outputId": "d8191b91-3b12-428e-881b-770ea817198c"
   },
   "outputs": [],
   "source": [
    "# Filter the data for college national education rate\n",
    "national_college_data = df_college[df_college.iloc[:, 0] == \"United States\"]\n",
    "education_college_rates = national_college_data.iloc[:, 1:].values.flatten().tolist()\n",
    "headers = df_college.columns[1:].tolist()\n",
    "\n",
    "# Create a dictionary with headers as keys and education rates as values\n",
    "national_college_data_dict = dict(zip(headers, education_college_rates))\n",
    "print(national_college_data_dict)"
   ]
  },
  {
   "cell_type": "code",
   "execution_count": null,
   "metadata": {
    "id": "21dc46e6"
   },
   "outputs": [],
   "source": [
    "#find out the relationship between the high school education rate and unemployment rate\n",
    "\n",
    "# Load the national unemployment rate data\n",
    "df_unemployment = df_unemployment\n",
    "\n",
    "# Extract relevant columns and rows for education rate\n",
    "highschool_education_rate_data = {\n",
    "    'Year': ['1980', '1990', '2000', '2008', '2009', '2010', '2011', '2012','2017', '2018', '2019', '2020', '2021'],\n",
    "    'Highschool_Education_Rate': [31.6, 34.3, 26.1, 24.3, 24.4, 24.4, 24.4, 24.4, 23.5, 23.5, 23.5, 23.5, 23.5]\n",
    "}\n",
    "\n",
    "# Convert education rate data into a DataFrame\n",
    "df_highschool_education = pd.DataFrame(highschool_education_rate_data)\n",
    "\n"
   ]
  },
  {
   "cell_type": "code",
   "execution_count": null,
   "metadata": {
    "colab": {
     "base_uri": "https://localhost:8080/"
    },
    "id": "5NQmN0AsMOlI",
    "outputId": "e342b431-ba82-42e0-8efa-23625d0f4cd4"
   },
   "outputs": [],
   "source": [
    "# Filter relevant years from unemployment data\n",
    "df_new_unemployment = df_unemployment[df_unemployment['Year'].isin(df_highschool_education['Year'])]\n",
    "df_filter = df_new_unemployment.drop(columns=['Year'])\n",
    "\n",
    "lst = df_filter.index.tolist()\n",
    "\n",
    "\n",
    "# Prepare data for regression\n",
    "X_highschool = df_highschool_education['Highschool_Education_Rate'].values.reshape(-1, 1)\n",
    "y_highschool = df_filter.loc[lst].mean(axis = 1)\n",
    "\n",
    "\n",
    "# Perform linear regression\n",
    "regression_model = LinearRegression()\n",
    "regression_model.fit(X_highschool, y_highschool)\n",
    "\n",
    "# Print regression coefficients\n",
    "print(\"Intercept:\", regression_model.intercept_)\n",
    "print(\"High School Education Rate Coefficient:\", regression_model.coef_[0])\n"
   ]
  },
  {
   "cell_type": "code",
   "execution_count": null,
   "metadata": {
    "id": "01c63c61"
   },
   "outputs": [],
   "source": [
    "#find out the relationship between the college education rate and unemployment rate\n",
    "#use college education rate as feature\n",
    "\n",
    "# Load the national unemployment rate data\n",
    "df_unemployment = df_unemployment\n",
    "\n",
    "# Extract relevant columns and rows for education rate\n",
    "college_education_rate_data = {\n",
    "    'Year': ['1980', '1990', '2000', '2008', '2009', '2010', '2011', '2012','2017', '2018', '2019', '2020', '2021'],\n",
    "    'college_Education_Rate': [34.6, 30.0, 30.0, 28.6, 28.2, 28.2, 28.2, 28.2, 28.2, 26.5, 26.5, 26.5, 26.5]\n",
    "}\n",
    "\n",
    "# Convert education rate data into a DataFrame\n",
    "df_college_education = pd.DataFrame(college_education_rate_data)\n",
    "\n"
   ]
  },
  {
   "cell_type": "code",
   "execution_count": null,
   "metadata": {
    "colab": {
     "base_uri": "https://localhost:8080/"
    },
    "id": "q8iabwpwMHTr",
    "outputId": "cce06c9a-0a6e-424c-b857-876849a72940"
   },
   "outputs": [],
   "source": [
    "# Filter relevant years from unemployment data\n",
    "df_new_unemployment = df_unemployment[df_unemployment['Year'].isin(df_college_education['Year'])]\n",
    "df_filter = df_new_unemployment.drop(columns=['Year'])\n",
    "\n",
    "lst = df_filter.index.tolist()\n",
    "\n",
    "\n",
    "# Prepare data for regression\n",
    "X_college = df_college_education['college_Education_Rate'].values.reshape(-1, 1)\n",
    "y_college = df_filter.loc[lst].mean(axis = 1)\n",
    "\n",
    "\n",
    "# Perform linear regression\n",
    "regression_model = LinearRegression()\n",
    "regression_model.fit(X_college, y_college)\n",
    "\n",
    "# Print regression coefficients\n",
    "print(\"Intercept:\", regression_model.intercept_)\n",
    "print(\"College Education Rate Coefficient:\", regression_model.coef_[0])"
   ]
  },
  {
   "cell_type": "code",
   "execution_count": null,
   "metadata": {
    "id": "edb9ac22"
   },
   "outputs": [],
   "source": [
    "def plot_linear_regression():\n",
    "    #plot high school linear regression\n",
    "    plt.scatter(X_highschool, y_highschool, color='blue', label=\"Actual unemployment rate\")\n",
    "\n",
    "    # Plotting the regression line\n",
    "    plt.plot(X, regression_model.predict(X_highschool), color='red', label='Regression Line')\n",
    "    # Adding labels and title\n",
    "    plt.title('High School Education Rate vs. Unemployment Rate')\n",
    "    plt.xlabel('High School Education Rate (%)')\n",
    "    plt.ylabel('Unemployment Rate (%)')\n",
    "    plt.legend()\n",
    "    plt.show()"
   ]
  },
  {
   "cell_type": "code",
   "execution_count": null,
   "metadata": {
    "colab": {
     "base_uri": "https://localhost:8080/",
     "height": 472
    },
    "id": "5e721d1a",
    "outputId": "dc371f8b-20b2-4516-d850-f9d0034cc03f"
   },
   "outputs": [],
   "source": [
    "#plot high school linear regression\n",
    "plt.scatter(X_highschool, y_highschool, color='blue', label=\"Actual unemployment rate\")\n",
    "\n",
    "# Plotting the regression line\n",
    "plt.plot(X_highschool, regression_model.predict(X_highschool), color='red', label='Regression Line')\n",
    "\n",
    "# Adding labels and title\n",
    "plt.title('High School Education Rate and Unemployment Rate')\n",
    "plt.xlabel('High School Education Rate (%)')\n",
    "plt.ylabel('Unemployment Rate (%)')\n",
    "plt.legend()\n",
    "plt.show()\n"
   ]
  },
  {
   "cell_type": "code",
   "execution_count": null,
   "metadata": {
    "colab": {
     "base_uri": "https://localhost:8080/",
     "height": 472
    },
    "id": "a6795620",
    "outputId": "1a2aeb0b-0e8a-45f8-94f3-cf0c888a1d64"
   },
   "outputs": [],
   "source": [
    "#plot high school linear regression\n",
    "plt.scatter(X_college, y_college, color='blue', label=\"Actual unemployment rate\")\n",
    "\n",
    "# Plotting the regression line\n",
    "plt.plot(X_college, regression_model.predict(X_college), color='red', label='Regression Line')\n",
    "\n",
    "# Adding labels and title\n",
    "plt.title('College Education Rate vs. Unemployment Rate')\n",
    "plt.xlabel('College Education Rate (%)')\n",
    "plt.ylabel('Unemployment Rate (%)')\n",
    "plt.legend()\n",
    "plt.show()\n"
   ]
  },
  {
   "cell_type": "markdown",
   "metadata": {
    "id": "MHI5p2ZjMDST"
   },
   "source": [
    "**JING CODE**"
   ]
  },
  {
   "cell_type": "code",
   "execution_count": null,
   "metadata": {
    "id": "nz6rBgphod-s"
   },
   "outputs": [],
   "source": [
    "import csv\n",
    "def read_csv(filename):\n",
    "    ''' given the name of a csv file, return its contents as a 2d list,\n",
    "        including the header\n",
    "    '''\n",
    "    data = []\n",
    "    with open(filename, \"r\") as infile:\n",
    "        csvfile = csv.reader(infile)\n",
    "        for row in csvfile:\n",
    "            data.append(row)\n",
    "    return data"
   ]
  },
  {
   "cell_type": "code",
   "execution_count": null,
   "metadata": {
    "id": "56d1303e-d3ad-413f-bfa6-d772ca54a6ee"
   },
   "outputs": [],
   "source": [
    "def plot_by_month(df, title, x_label, y_label):\n",
    "    ''' given a dataframe, title of the graph, x-axis label, and y-axis label,\n",
    "        returns a grah plotting each month as a line\n",
    "    '''\n",
    "    plt.figure(figsize=(24, 10))\n",
    "    for column in df.columns:\n",
    "        plt.plot(df.index, df[column], label=column)\n",
    "\n",
    "    plt.title(title)\n",
    "    plt.xlabel(x_label)\n",
    "    plt.ylabel(y_label)\n",
    "    plt.legend(title = 'Month', loc = 'upper left')\n",
    "    plt.grid(True)\n",
    "    plt.tight_layout()\n",
    "    plt.show()"
   ]
  },
  {
   "cell_type": "code",
   "execution_count": null,
   "metadata": {
    "id": "f9ee668c-6dae-42c8-bfd5-2816389e2447"
   },
   "outputs": [],
   "source": [
    "def plot_autocorrection(df, title):\n",
    "    ''' given a dataframe and a title of the plot, returns an autocorrelation\n",
    "        plot\n",
    "    '''\n",
    "    plt.figure(figsize = (12, 6))\n",
    "    pd.plotting.autocorrelation_plot(df.stack(), ax=plt.gca())\n",
    "    plt.title(f'Autocorrelation of {title}')\n",
    "    plt.xlim()\n",
    "    plt.xlabel('Lag')\n",
    "    plt.ylabel('Autocorrelation')\n",
    "    plt.grid(True)\n",
    "    plt.tight_layout()\n",
    "    plt.show()"
   ]
  },
  {
   "cell_type": "code",
   "execution_count": null,
   "metadata": {
    "id": "e16b6254-53c7-450a-bea5-a7f25405f8c2"
   },
   "outputs": [],
   "source": [
    "# Performs first order difference on the data that is transformed into a list\n",
    "def perform_fod(data):\n",
    "    ''' given data, converts to a list and returns a new list after performing\n",
    "        the first order difference\n",
    "    '''\n",
    "    lsts = data[12:]\n",
    "    # removes the year in each list\n",
    "    for lst in lsts:\n",
    "        lst.pop(0)\n",
    "    lst = sum(lsts, [])\n",
    "    lst = [float(item) for item in lst]\n",
    "    new_lst = first_order_diff(lst)\n",
    "    return new_lst"
   ]
  },
  {
   "cell_type": "code",
   "execution_count": null,
   "metadata": {
    "id": "c28ded9d-df48-46f8-81a4-b8b1da4a9c67"
   },
   "outputs": [],
   "source": [
    "import math\n",
    "def clean_data(lst, start):\n",
    "    ''' given a list and start year, returns a dataframe where\n",
    "        each column is a year and each row is a month\n",
    "    '''\n",
    "    # Organize the row by year where index is the range of the year\n",
    "    df = pd.DataFrame([lst[i:i+12] for i in range(0, len(lst), 12)],\n",
    "                      index = range(start, start + (math.ceil(len(lst) / 12))))\n",
    "\n",
    "    # Rename columns to represent each month\n",
    "    df.columns = ['Jan', 'Feb', 'Mar', 'Apr', 'May', 'Jun', 'Jul', 'Aug',\n",
    "                  'Sept', 'Oct', 'Nov', 'Dec']\n",
    "\n",
    "    # Name index\n",
    "    df.index.name = 'Year'\n",
    "\n",
    "    # Replace empty strings with NaN\n",
    "    df.replace('', float('nan'), inplace = True)\n",
    "\n",
    "    # Convert numerical columns to float\n",
    "    for col in df.columns:\n",
    "        if col != 'Year':\n",
    "            df[col] = df[col].astype(float)\n",
    "\n",
    "    df.fillna(0, inplace = True)\n",
    "\n",
    "    return df"
   ]
  },
  {
   "cell_type": "code",
   "execution_count": null,
   "metadata": {
    "id": "3934e4af-40ac-41e5-a8cd-6f91a055e586"
   },
   "outputs": [],
   "source": [
    "# Load the Unemployment Rate dataset and take the first order difference\n",
    "# of each data in the dataset\n",
    "unemply_rate = read_csv(\"unemployment_rate.csv\")\n",
    "unemply_rate_fod = perform_fod(unemply_rate)"
   ]
  },
  {
   "cell_type": "code",
   "execution_count": null,
   "metadata": {
    "colab": {
     "base_uri": "https://localhost:8080/",
     "height": 237
    },
    "id": "cd7e4b5d-e129-4599-aaa0-5b51694645be",
    "outputId": "db6974dc-28d5-4fb7-84fb-b691603ef0c8"
   },
   "outputs": [],
   "source": [
    "# Put the list of data after performing first order difference\n",
    "# into a dataframe\n",
    "unemply_rate_df = clean_data(unemply_rate_fod, 1974)\n",
    "unemply_rate_df.head()"
   ]
  },
  {
   "cell_type": "code",
   "execution_count": null,
   "metadata": {
    "colab": {
     "base_uri": "https://localhost:8080/",
     "height": 582
    },
    "id": "30c94b48-dd3e-4600-b09c-21f34d5c6013",
    "outputId": "afae1d8f-0d2d-4f59-da74-642bc95baef2",
    "scrolled": true
   },
   "outputs": [],
   "source": [
    "# Plots the change in unemployment rate from 1974-2023\n",
    "plot_by_month(unemply_rate_df, \"Change in Unemployment Rate Over Time\", \"Year\",\n",
    "              \"Unemployment Rate (%)\")"
   ]
  },
  {
   "cell_type": "code",
   "execution_count": null,
   "metadata": {
    "colab": {
     "base_uri": "https://localhost:8080/",
     "height": 607
    },
    "id": "d0882f45-ab74-40ac-a6f6-69eef2fb3bb6",
    "outputId": "87babcfb-7f7e-4ff0-d619-8e879e1877e6"
   },
   "outputs": [],
   "source": [
    "# Plots the autocorrelation and lag of the change in unemployment rates\n",
    "# over the 50 years (600 months)\n",
    "plot_autocorrection(unemply_rate_df, 'Unemployment Rates')"
   ]
  },
  {
   "cell_type": "code",
   "execution_count": null,
   "metadata": {
    "id": "3e9e75f5-dc77-4490-ad8d-e1044db4bd40"
   },
   "outputs": [],
   "source": [
    "# Load the Civilian Labor Force Level dataset and take the first order\n",
    "# difference of each data in the dataset\n",
    "civ_labor = read_csv(\"civ_labor_force.csv\")\n",
    "civ_labor_fod = perform_fod(civ_labor)"
   ]
  },
  {
   "cell_type": "code",
   "execution_count": null,
   "metadata": {
    "colab": {
     "base_uri": "https://localhost:8080/",
     "height": 237
    },
    "id": "6c92c654-b923-49eb-a9c8-975a450ba2ff",
    "outputId": "20852a6d-c45a-4b39-dd4b-4c7c200a437d"
   },
   "outputs": [],
   "source": [
    "# Put the list of data after performing first order difference\n",
    "# into a dataframe\n",
    "civ_labor_df = clean_data(civ_labor_fod, 1974)\n",
    "civ_labor_df.head()"
   ]
  },
  {
   "cell_type": "code",
   "execution_count": null,
   "metadata": {
    "colab": {
     "base_uri": "https://localhost:8080/",
     "height": 582
    },
    "id": "0762caf6-4617-4dc3-ba8c-af8f1e513473",
    "outputId": "cfebc884-7654-4e82-c8b7-08323cd8f85c"
   },
   "outputs": [],
   "source": [
    "# Plot the change in the number of civilian labor force from 1974-2023\n",
    "plot_by_month(civ_labor_df, \"Civilian Labor Force Over Time\", \"Year\",\n",
    "              \"Civilian Labor Force (thousands)\")"
   ]
  },
  {
   "cell_type": "code",
   "execution_count": null,
   "metadata": {
    "colab": {
     "base_uri": "https://localhost:8080/",
     "height": 607
    },
    "id": "2eda5962-bc29-476f-9023-416b29b01bdf",
    "outputId": "7fac7a3d-b522-445d-e0fe-79f39f74f2e7"
   },
   "outputs": [],
   "source": [
    "# Plots the autocorrelation and lag of the change in civilian labor force\n",
    "# over the 50 years (600 months)\n",
    "plot_autocorrection(civ_labor_df, 'Civilian Labor Force')"
   ]
  },
  {
   "cell_type": "code",
   "execution_count": null,
   "metadata": {
    "id": "e6af483d-28a6-4d85-b3aa-a6b4bd20a696"
   },
   "outputs": [],
   "source": [
    "# Load the Employed Civilian Level dataset and take the first order difference\n",
    "# of each data in the dataset\n",
    "employed_civ = read_csv(\"employed_civ_amt.csv\")\n",
    "employed_civ_fod = perform_fod(employed_civ)"
   ]
  },
  {
   "cell_type": "code",
   "execution_count": null,
   "metadata": {
    "colab": {
     "base_uri": "https://localhost:8080/",
     "height": 237
    },
    "id": "f0a9da70-bde2-4ed3-9ab8-b2b1d0cd8979",
    "outputId": "46beae71-e58d-4da2-d522-573d6bb9537b"
   },
   "outputs": [],
   "source": [
    "# Put the list of data after performing first order difference\n",
    "# into a dataframe\n",
    "employed_civ_df = clean_data(employed_civ_fod, 1974)\n",
    "employed_civ_df.head()"
   ]
  },
  {
   "cell_type": "code",
   "execution_count": null,
   "metadata": {
    "colab": {
     "base_uri": "https://localhost:8080/",
     "height": 582
    },
    "id": "654cbe85-479a-4deb-9bb0-e9a6cdabfaa8",
    "outputId": "9c5e2c0a-dd1f-45c4-dcd2-4ded12d6d689"
   },
   "outputs": [],
   "source": [
    "# Plot the change in number of employed civilian from 1974-2023\n",
    "plot_by_month(employed_civ_df, \"Employed Civilians Over Time\", \"Year\",\n",
    "              \"Employed Civilians (thousands)\")"
   ]
  },
  {
   "cell_type": "code",
   "execution_count": null,
   "metadata": {
    "colab": {
     "base_uri": "https://localhost:8080/",
     "height": 607
    },
    "id": "e5dfa350-30fc-4dc3-b928-63e56f63f3e3",
    "outputId": "9a7e619a-a047-4096-dbc3-14aaf9f99944"
   },
   "outputs": [],
   "source": [
    "# Plots the autocorrelation and lag of the change in number of employed\n",
    "# civilians over the 50 years (600 months)\n",
    "plot_autocorrection(employed_civ_df, 'Employed Civilians')"
   ]
  },
  {
   "cell_type": "code",
   "execution_count": null,
   "metadata": {
    "id": "56f480a9-1557-471e-bb20-7a890cce560f"
   },
   "outputs": [],
   "source": [
    "# Load the Umployed Civilian Level dataset and take the first order difference\n",
    "# of each data in the dataset\n",
    "unemployed_civ = read_csv(\"unemployment_level.csv\")\n",
    "unemployed_civ_fod = perform_fod(unemployed_civ)"
   ]
  },
  {
   "cell_type": "code",
   "execution_count": null,
   "metadata": {
    "colab": {
     "base_uri": "https://localhost:8080/",
     "height": 237
    },
    "id": "a2ab00b9-fe4e-43c2-aa26-7c6be9ce3bf8",
    "outputId": "9076827d-ba15-4743-915f-0db581f4c697"
   },
   "outputs": [],
   "source": [
    "# Put the list of data after performing first order difference\n",
    "# into a dataframe\n",
    "unemployed_civ_df = clean_data(unemployed_civ_fod, 1974)\n",
    "unemployed_civ_df.head()"
   ]
  },
  {
   "cell_type": "code",
   "execution_count": null,
   "metadata": {
    "colab": {
     "base_uri": "https://localhost:8080/",
     "height": 582
    },
    "id": "510eaee7-073e-4f12-a675-eb33996d4b2e",
    "outputId": "78ce771b-ac36-41f6-c635-781d0c82d8ba"
   },
   "outputs": [],
   "source": [
    "# Plot the change in number of unemployed civilian from 1974-2023\n",
    "plot_by_month(unemployed_civ_df, \"Unemployed Civilians Over Time\", \"Year\",\n",
    "              \"Unemployed Civilians (thousands)\")"
   ]
  },
  {
   "cell_type": "code",
   "execution_count": null,
   "metadata": {
    "colab": {
     "base_uri": "https://localhost:8080/",
     "height": 607
    },
    "id": "34cfab38-0e18-40ee-a083-2b28c7575d82",
    "outputId": "d9950ead-1c7e-4d3c-cfe4-7499a18f27f3"
   },
   "outputs": [],
   "source": [
    "# Plots the autocorrelation and lag of the change in number of unemployed\n",
    "# civilians over the 50 years (600 months)\n",
    "plot_autocorrection(unemployed_civ_df, 'Unemployed Civilians')"
   ]
  },
  {
   "cell_type": "markdown",
   "metadata": {
    "id": "0uaixoVILy6z"
   },
   "source": [
    "**LEON CODE**"
   ]
  },
  {
   "cell_type": "code",
   "execution_count": null,
   "metadata": {
    "id": "aeb52fc7-b391-47bf-ac01-809c23d946ef"
   },
   "outputs": [],
   "source": [
    "# Choose the year range and the filepath to read in files\n",
    "start_year, end_year = 1974,2023\n",
    "filepath_unemp = 'unemployment_level.csv'\n",
    "value_column_name = 'Unemployment Rate'\n",
    "\n",
    "Unemp = load_and_prepare_data(filepath_unemp, 'Unemployment Level', start_year, end_year)"
   ]
  },
  {
   "cell_type": "code",
   "execution_count": null,
   "metadata": {
    "colab": {
     "base_uri": "https://localhost:8080/",
     "height": 206
    },
    "id": "35b67b99-81ee-4e89-9c44-0c9b3c51baf8",
    "outputId": "9469a1d4-0ab1-44a3-b948-df5ea4bff325"
   },
   "outputs": [],
   "source": [
    "Unemp.head()"
   ]
  },
  {
   "cell_type": "code",
   "execution_count": null,
   "metadata": {
    "id": "6b91c59e-f214-4e7c-8876-b78fef663a63"
   },
   "outputs": [],
   "source": [
    "def split_data(data, value_column_name,test_size):\n",
    "    \"\"\" split the data into two parts, the first part for training and the second part for testing\n",
    "        also you canchoose different testing data size\n",
    "    \"\"\"\n",
    "    data['DateOrdinal'] = data['Date'].apply(lambda x: x.toordinal())\n",
    "    X = data[['DateOrdinal']]\n",
    "    X_train = X.iloc[:-test_size]\n",
    "    y = data[value_column_name]# Use the dynamic value column name\n",
    "    y_train = y.iloc[:-test_size]\n",
    "\n",
    "    return X,y,X_train, y_train"
   ]
  },
  {
   "cell_type": "code",
   "execution_count": null,
   "metadata": {
    "id": "fc03f6c5-b982-4760-bef7-cd6e2737bf11"
   },
   "outputs": [],
   "source": [
    "#ACF figure\n",
    "from statsmodels.graphics.tsaplots import plot_acf\n",
    "from statsmodels.tsa.stattools import adfuller as ADF\n",
    "from statsmodels.graphics.tsaplots import plot_pacf\n",
    "\n",
    "\n",
    "def adf_test(timeseries):\n",
    "    \"\"\"given a timeseries data and test the stationarity of it by using the ADF test\n",
    "    \"\"\"\n",
    "    print ('ADF test result:')\n",
    "    dftest = ADF(timeseries, autolag='AIC')\n",
    "    dfoutput = pd.Series(dftest[0:4], index=['Test Statistic','p-value','Number of Lags Used','Number of Observations Used'])\n",
    "    for key,value in dftest[4].items():\n",
    "       dfoutput['Critical Value (%s)'%key] = value\n",
    "    print (dfoutput)\n"
   ]
  },
  {
   "cell_type": "code",
   "execution_count": null,
   "metadata": {
    "colab": {
     "base_uri": "https://localhost:8080/"
    },
    "id": "25486434-99fc-4e1d-abab-0359d4331a12",
    "outputId": "39df8d08-777e-4571-855e-829df4f6b617"
   },
   "outputs": [],
   "source": [
    "# Split the data.\n",
    "X,y,X_Unemp_train, y_Unemp_train = split_data(Unemp, 'Unemployment Level',60)\n",
    "y_Unemp_train"
   ]
  },
  {
   "cell_type": "code",
   "execution_count": null,
   "metadata": {
    "colab": {
     "base_uri": "https://localhost:8080/",
     "height": 487
    },
    "id": "K_aZDQdZ_GGi",
    "outputId": "d3870e1d-be8c-4b38-9cd4-9bdbf8cfb37b"
   },
   "outputs": [],
   "source": [
    "# Plot the training data\n",
    "y_Unemp_train.dropna().plot(label = value_column_name,figsize = (12,5))\n",
    "plt.title('Unemployment Level Training Data')\n",
    "plt.xlim()\n",
    "plt.xlabel('Months')\n",
    "plt.ylabel('Levels')\n",
    "plt.grid(True)\n",
    "plt.show()"
   ]
  },
  {
   "cell_type": "code",
   "execution_count": null,
   "metadata": {
    "colab": {
     "base_uri": "https://localhost:8080/",
     "height": 1000
    },
    "id": "808955ec-8259-4fbc-a0d5-2da44da2883f",
    "outputId": "0dd220df-770e-4621-cdec-79552b336bda"
   },
   "outputs": [],
   "source": [
    "# Check the ADF, autocorrelation, and partial autocorrelation for the original data\n",
    "Rate_Unemp = y_Unemp_train\n",
    "adf_test(Rate_Unemp)\n",
    "\n",
    "plot_acf(Rate_Unemp)\n",
    "plt.ylim(-0.3,1.1)\n",
    "plot_pacf(Rate_Unemp) #pacf\n",
    "plt.ylim(-0.2,1.1)"
   ]
  },
  {
   "cell_type": "code",
   "execution_count": null,
   "metadata": {
    "id": "5d6e979f-21b0-4600-820e-3e79e23488f9"
   },
   "outputs": [],
   "source": [
    "def First_Order_Differencing(timeseries,value_column_name,title):\n",
    "    #First-Order Differencing\n",
    "    Diff_data = timeseries.diff().dropna()\n",
    "    Diff_data.plot(label = value_column_name,figsize = (12,5))\n",
    "    plt.title(title)\n",
    "    plt.xlabel('Months')\n",
    "    plt.ylabel('Levels(Differentiated)')\n",
    "    plt.grid(True)\n",
    "    plt.legend()\n",
    "    plt.show()\n",
    "    return Diff_data\n"
   ]
  },
  {
   "cell_type": "code",
   "execution_count": null,
   "metadata": {
    "colab": {
     "base_uri": "https://localhost:8080/",
     "height": 487
    },
    "id": "lIew2eibztlB",
    "outputId": "7a0b431a-0c64-4030-caaa-2a1cb42e1e6a"
   },
   "outputs": [],
   "source": [
    "# Plot the differenciated data\n",
    "diff_y_Unemp_train = First_Order_Differencing(Rate_Unemp,value_column_name,\\\n",
    "                            'Differenciated Unemployment Level Training Data ')"
   ]
  },
  {
   "cell_type": "code",
   "execution_count": null,
   "metadata": {
    "colab": {
     "base_uri": "https://localhost:8080/",
     "height": 1000
    },
    "id": "67b875fc-ad83-4926-a37b-eacc0c387b40",
    "outputId": "625a2bda-df2a-4c32-c41c-61cbe6d405e3"
   },
   "outputs": [],
   "source": [
    "# Check the ADF, autocorrelation, and partial autocorrelation for the differentiated data\n",
    "adf_test(diff_y_Unemp_train)\n",
    "\n",
    "plot_acf(diff_y_Unemp_train)\n",
    "plt.ylim(-0.3,1.1)\n",
    "plot_pacf(diff_y_Unemp_train) #pacf\n",
    "plt.ylim(-0.2,1.1)"
   ]
  },
  {
   "cell_type": "code",
   "execution_count": null,
   "metadata": {
    "id": "06c69d9e-e751-405c-a403-18b0298ff42d"
   },
   "outputs": [],
   "source": [
    "# Find the potential correlation parameters\n",
    "# q:ACF: 1,2,3,4,5,6,7,8,9,11,24\n",
    "# p:PACF:1,2,3,4,5,6,12,24"
   ]
  },
  {
   "cell_type": "code",
   "execution_count": null,
   "metadata": {
    "colab": {
     "base_uri": "https://localhost:8080/"
    },
    "id": "8b0cd02f-4ffc-452a-bd3e-21be3b73d38f",
    "outputId": "fe40b8a2-8054-4b9b-9c4c-3c89d7e61d25"
   },
   "outputs": [],
   "source": [
    "# print out the BIC matrix to find the best (p,q) parameters\n",
    "# ignore warnings\n",
    "import warnings\n",
    "warnings.filterwarnings(\"ignore\")\n",
    "\n",
    "# import arima model\n",
    "from statsmodels.tsa.arima.model import ARIMA\n",
    "\n",
    "diff_y_Unemp_train = diff_y_Unemp_train.astype(float)\n",
    "#find p,q\n",
    "pmax = 6  #less then length/10\n",
    "qmax = 6  #less then length/10\n",
    "bic_matrix = [] #bic metrix\n",
    "for p in range(pmax + 1):\n",
    "    tmp = []\n",
    "    for q in range(qmax + 1):\n",
    "      try: #use try to skip errors\n",
    "        tmp.append(ARIMA(diff_y_Unemp_train.values, order = (p,1,q)).fit().bic)\n",
    "      except:\n",
    "        tmp.append(None)\n",
    "    bic_matrix.append(tmp)\n",
    "\n",
    "#print BIC matrix\n",
    "bic_matrix = pd.DataFrame(bic_matrix) #find the min value\n",
    "print(bic_matrix)\n",
    "warnings.resetwarnings()"
   ]
  },
  {
   "cell_type": "code",
   "execution_count": null,
   "metadata": {
    "colab": {
     "base_uri": "https://localhost:8080/"
    },
    "id": "2d9eb758-add8-4f7d-85eb-0453f7988225",
    "outputId": "4502793f-33df-4386-eaf6-b0815b73fc5c"
   },
   "outputs": [],
   "source": [
    "# Train the arima model by using the best parameters in the last cell\n",
    "# row is p,column is q\n",
    "from statsmodels.tsa.arima.model import ARIMA\n",
    "p = 0\n",
    "q = 2\n",
    "d = 1\n",
    "print(ARIMA(diff_y_Unemp_train.values, order = (p,d,q)).fit().bic)"
   ]
  },
  {
   "cell_type": "code",
   "execution_count": null,
   "metadata": {
    "colab": {
     "base_uri": "https://localhost:8080/",
     "height": 718
    },
    "id": "981b8b49-e50f-4fe4-9828-df5df2b42d9c",
    "outputId": "dbc522db-2e79-445c-c676-842f396249f9"
   },
   "outputs": [],
   "source": [
    "# Plot the result for the residuals.\n",
    "warnings.filterwarnings(\"ignore\")\n",
    "model = ARIMA(diff_y_Unemp_train.values, order=(p, d, q))\n",
    "results = model.fit()\n",
    "results.plot_diagnostics(figsize=(12, 8))\n",
    "plt.show()"
   ]
  },
  {
   "cell_type": "code",
   "execution_count": null,
   "metadata": {
    "colab": {
     "base_uri": "https://localhost:8080/",
     "height": 617
    },
    "id": "33c1542a-b60c-4573-b7be-e61574733295",
    "outputId": "9b930d48-3178-4cf7-fcd3-a800567ccb86"
   },
   "outputs": [],
   "source": [
    "# Use the Ljung-Box test to check the residuals\n",
    "import statsmodels.api as sm\n",
    "\n",
    "# get residuals\n",
    "residuals = results.resid\n",
    "#print(residuals)\n",
    "\n",
    "# conduct Ljung-Box test\n",
    "LB_df = sm.stats.acorr_ljungbox(residuals, lags=6, return_df=True)\n",
    "# print out the p-values\n",
    "p_value = LB_df['lb_pvalue']\n",
    "# print Ljung-Box test result\n",
    "plt.bar(range(1, len(LB_df['lb_pvalue']) + 1), LB_df['lb_pvalue'])\n",
    "plt.xlabel('Lag')\n",
    "plt.ylabel('Ljung-Box Statistic')\n",
    "plt.title('Ljung-Box Test on ARIMA Residuals')\n",
    "\n",
    "print(f\"P-value for Ljung-Box Test:\\n{p_value}\")"
   ]
  },
  {
   "cell_type": "code",
   "execution_count": null,
   "metadata": {
    "id": "d927a33d-0923-4026-82ed-48937f9f60c6"
   },
   "outputs": [],
   "source": [
    "# Implement our fitted model to forecast the unemployment level between 2020-2024\n",
    "test = y.diff()[-60:]\n",
    "forecast_steps = len(test)  # how many steps we want to forecast\n",
    "forecast = results.get_forecast(steps=forecast_steps)\n",
    "forecast_values = forecast.predicted_mean\n",
    "\n",
    "# get confidence interval\n",
    "confidence_interval = forecast.conf_int()"
   ]
  },
  {
   "cell_type": "code",
   "execution_count": null,
   "metadata": {
    "colab": {
     "base_uri": "https://localhost:8080/",
     "height": 472
    },
    "id": "e8201995-f14a-46f7-bb99-bf7371d91554",
    "outputId": "93057db2-3f9f-4e31-acc2-fccbee7cf336"
   },
   "outputs": [],
   "source": [
    "# plot the final prediction\n",
    "plt.plot(diff_y_Unemp_train, label='Training Data')\n",
    "plt.plot(test, label='Test Data')\n",
    "plt.plot(test.index,forecast_values, label='Forecast')\n",
    "\n",
    "\n",
    "# plot confidence interval\n",
    "plt.fill_between(test.index, confidence_interval[:, 0], confidence_interval[:, 1], color='yellow', alpha=0.8, label='95% Confidence Interval')\n",
    "\n",
    "plt.title(\"Differenciated Unemployment Level, Actual vs. Predict\")\n",
    "plt.xlabel('Months')\n",
    "plt.ylabel('Levels(Differentiated)')\n",
    "plt.grid(True)\n",
    "plt.legend()\n",
    "#plt.xlim(504,564)\n",
    "#plt.ylim(-500,500)\n",
    "plt.show()"
   ]
  },
  {
   "cell_type": "code",
   "execution_count": null,
   "metadata": {
    "colab": {
     "base_uri": "https://localhost:8080/"
    },
    "id": "c999b960-003f-47b8-b039-389fb8f4e282",
    "outputId": "8703654e-a8bf-4b51-a1d8-eb0951cb26a9"
   },
   "outputs": [],
   "source": [
    "# cross validation for the final predicton.\n",
    "from sklearn.metrics import mean_squared_error, mean_absolute_error\n",
    "\n",
    "\n",
    "\n",
    "# calculate the Root Mean Squared Error (RMSE)\n",
    "rmse = np.sqrt(mean_squared_error(test, forecast_values))\n",
    "print(f\"Root Mean Squared Error (RMSE): {rmse}\")\n",
    "\n",
    "# calculate the Mean Absolute Error (MAE)\n",
    "mae = mean_absolute_error(test, forecast_values)\n",
    "print(f\"Mean Absolute Error (MAE): {mae}\")\n",
    "\n",
    "# calculate the Average Forecasting Error (AFE)\n",
    "forecast_errors = test - forecast_values\n",
    "\n",
    "# calculate different percentage\n",
    "percentiles = [10, 25, 50, 75, 90]  # different percentage\n",
    "percentile_values = np.percentile(forecast_errors, percentiles)\n",
    "\n",
    "# print AFE\n",
    "for p, value in zip(percentiles, percentile_values):\n",
    "    print(f\"{p}th Percentile AFE: {value}\")\n"
   ]
  },
  {
   "cell_type": "code",
   "execution_count": null,
   "metadata": {
    "id": "YeB4ZMjV_DyD"
   },
   "outputs": [],
   "source": []
  }
 ],
 "metadata": {
  "colab": {
   "provenance": []
  },
  "kernelspec": {
   "display_name": "Python 3 (ipykernel)",
   "language": "python",
   "name": "python3"
  },
  "language_info": {
   "codemirror_mode": {
    "name": "ipython",
    "version": 3
   },
   "file_extension": ".py",
   "mimetype": "text/x-python",
   "name": "python",
   "nbconvert_exporter": "python",
   "pygments_lexer": "ipython3",
   "version": "3.11.8"
  }
 },
 "nbformat": 4,
 "nbformat_minor": 4
}
